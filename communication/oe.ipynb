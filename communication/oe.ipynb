{
 "cells": [
  {
   "cell_type": "code",
   "execution_count": 19,
   "metadata": {},
   "outputs": [
    {
     "data": {
      "text/html": [
       "<div>\n",
       "<style scoped>\n",
       "    .dataframe tbody tr th:only-of-type {\n",
       "        vertical-align: middle;\n",
       "    }\n",
       "\n",
       "    .dataframe tbody tr th {\n",
       "        vertical-align: top;\n",
       "    }\n",
       "\n",
       "    .dataframe thead th {\n",
       "        text-align: right;\n",
       "    }\n",
       "</style>\n",
       "<table border=\"1\" class=\"dataframe\">\n",
       "  <thead>\n",
       "    <tr style=\"text-align: right;\">\n",
       "      <th></th>\n",
       "      <th>Car name</th>\n",
       "      <th>Description</th>\n",
       "      <th>Cout_prod</th>\n",
       "      <th>Consumption</th>\n",
       "      <th>Durability</th>\n",
       "      <th>Noise</th>\n",
       "      <th>Environnement</th>\n",
       "    </tr>\n",
       "  </thead>\n",
       "  <tbody>\n",
       "    <tr>\n",
       "      <th>0</th>\n",
       "      <td>Renault Clio</td>\n",
       "      <td>A popular and affordable compact car that has ...</td>\n",
       "      <td>2</td>\n",
       "      <td>1</td>\n",
       "      <td>1</td>\n",
       "      <td>3</td>\n",
       "      <td>3</td>\n",
       "    </tr>\n",
       "    <tr>\n",
       "      <th>1</th>\n",
       "      <td>Peugeot 208</td>\n",
       "      <td>A stylish and practical hatchback with good fu...</td>\n",
       "      <td>0</td>\n",
       "      <td>2</td>\n",
       "      <td>1</td>\n",
       "      <td>0</td>\n",
       "      <td>4</td>\n",
       "    </tr>\n",
       "    <tr>\n",
       "      <th>2</th>\n",
       "      <td>Citroen C3</td>\n",
       "      <td>A versatile small car with distinctive styling...</td>\n",
       "      <td>1</td>\n",
       "      <td>1</td>\n",
       "      <td>2</td>\n",
       "      <td>4</td>\n",
       "      <td>2</td>\n",
       "    </tr>\n",
       "    <tr>\n",
       "      <th>3</th>\n",
       "      <td>DS 3 Crossback</td>\n",
       "      <td>A premium compact SUV with a luxurious interio...</td>\n",
       "      <td>2</td>\n",
       "      <td>1</td>\n",
       "      <td>4</td>\n",
       "      <td>1</td>\n",
       "      <td>4</td>\n",
       "    </tr>\n",
       "    <tr>\n",
       "      <th>4</th>\n",
       "      <td>Alpine A110</td>\n",
       "      <td>A sleek and lightweight sports car that is des...</td>\n",
       "      <td>3</td>\n",
       "      <td>2</td>\n",
       "      <td>2</td>\n",
       "      <td>1</td>\n",
       "      <td>4</td>\n",
       "    </tr>\n",
       "  </tbody>\n",
       "</table>\n",
       "</div>"
      ],
      "text/plain": [
       "         Car name                                        Description  \\\n",
       "0    Renault Clio  A popular and affordable compact car that has ...   \n",
       "1     Peugeot 208  A stylish and practical hatchback with good fu...   \n",
       "2      Citroen C3  A versatile small car with distinctive styling...   \n",
       "3  DS 3 Crossback  A premium compact SUV with a luxurious interio...   \n",
       "4     Alpine A110  A sleek and lightweight sports car that is des...   \n",
       "\n",
       "   Cout_prod  Consumption  Durability  Noise  Environnement  \n",
       "0          2            1           1      3              3  \n",
       "1          0            2           1      0              4  \n",
       "2          1            1           2      4              2  \n",
       "3          2            1           4      1              4  \n",
       "4          3            2           2      1              4  "
      ]
     },
     "execution_count": 19,
     "metadata": {},
     "output_type": "execute_result"
    }
   ],
   "source": [
    "import random\n",
    "import pandas as pd\n",
    "\n",
    "voitures=pd.read_csv(\"../carsSMA.csv\")\n",
    "voitures.head()"
   ]
  },
  {
   "cell_type": "code",
   "execution_count": 21,
   "metadata": {},
   "outputs": [],
   "source": [
    "voitures['desc']=voitures['Car name']+\" : \"+voitures['Description']\n",
    "list_items=list(voitures['desc'].unique())\n"
   ]
  },
  {
   "cell_type": "code",
   "execution_count": 24,
   "metadata": {},
   "outputs": [
    {
     "name": "stdout",
     "output_type": "stream",
     "text": [
      "a\n",
      "h\n"
     ]
    }
   ],
   "source": [
    "a={\"a\":1,\"h\":2}\n",
    "for x in a:\n",
    "    print(x)"
   ]
  },
  {
   "cell_type": "code",
   "execution_count": 16,
   "metadata": {},
   "outputs": [
    {
     "name": "stdout",
     "output_type": "stream",
     "text": [
      "Renault Clio : A popular and affordable compact car that has been in production since 1990. 2\n",
      "Peugeot 208 : A stylish and practical hatchback with good fuel efficiency and safety features. 0\n",
      "Citroen C3 : A versatile small car with distinctive styling and a comfortable ride. 1\n",
      "DS 3 Crossback : A premium compact SUV with a luxurious interior and advanced safety features. 2\n",
      "Alpine A110 : A sleek and lightweight sports car that is designed for agility and speed. 3\n",
      "Bugatti Chiron : A hypercar with jaw-dropping performance and a price tag to match. 2\n",
      "Renault Captur : A compact crossover SUV that offers practicality and value for money. 1\n",
      "Peugeot 3008 : A stylish and spacious crossover SUV with advanced safety and technology features. 0\n",
      "Citroen C4 Cactus : A quirky and practical hatchback with distinctive design features and good fuel efficiency. 4\n",
      "DS 7 Crossback : A luxurious and spacious SUV with a refined interior and advanced driver assistance features. 1\n",
      "Renault Twingo : A fun and agile city car that is ideal for urban driving. 0\n",
      "Peugeot 508 : A sleek and stylish mid-size sedan with advanced technology features and good fuel efficiency. 4\n",
      "Citroen DS5 : A luxurious and stylish hatchback with a high-quality interior and advanced safety features. 1\n",
      "DS 9 : A premium executive sedan that combines comfort ; performance ; and style. 3\n",
      "Bugatti Veyron : A legendary hypercar with incredible speed and performance capabilities. 0\n",
      "Renault Megane : A practical and stylish compact car with good handling and fuel efficiency. 1\n",
      "Peugeot 2008 : A versatile and practical crossover SUV with good fuel efficiency and safety features. 4\n",
      "Citroen C1 : A compact and affordable city car with distinctive styling and good fuel efficiency. 3\n",
      "Renault Kadjar : A spacious and comfortable mid-size SUV with good handling and performance. 0\n",
      "Peugeot 108 : A small and practical city car with a fun and stylish design. 3\n",
      "Citroen C5 Aircross : A spacious and comfortable SUV with a distinctive design and advanced technology features. 4\n",
      "DS 4 : A stylish and luxurious hatchback with advanced technology and safety features. 1\n",
      "Renault Zoe : A popular and affordable electric car with good range and charging capabilities. 3\n",
      "Peugeot 308 : A practical and stylish compact car with good handling and fuel efficiency. 1\n",
      "Citroen C4 Picasso : A spacious and versatile MPV with good fuel efficiency and advanced technology features. 4\n",
      "Peugeot 5008 : A spacious and practical SUV with good handling and advanced safety features. 2\n",
      "Citroen Berlingo : A versatile and practical van with a spacious interior and good cargo capacity. 2\n",
      "Renault Scenic : A practical and spacious MPV with good handling and fuel efficiency. 1\n",
      "Peugeot 407 : A stylish and comfortable mid-size sedan with good performance and handling. 0\n",
      "Renault Talisman : A luxurious and spacious mid-size sedan with advanced technology and safety features. 4\n",
      "Citroen C6 : A luxurious and stylish executive sedan with advanced technology and safety features. 1\n",
      "Peugeot 4007 : A practical and spacious SUV with good handling and off-road capabilities. 1\n",
      "Bugatti EB110 : A legendary supercar with impressive performance and handling capabilities. 0\n",
      "Renault Avantime : A stylish and innovative coupe with a unique design and advanced technology features. 4\n",
      "Peugeot RCZ : A sporty and stylish coupe with good handling and performance. 1\n",
      "Citroen XM : A luxurious and spacious executive sedan with advanced technology and safety features. 0\n",
      "Peugeot 207 : A practical and efficient compact car with a sporty design and good handling. 0\n",
      "Citroen DS3 : A stylish and quirky hatchback with a comfortable ride and advanced safety features. 0\n",
      "Renault Wind : A small and sporty convertible with good handling and an attractive design. 0\n",
      "Peugeot 106 : A compact and affordable city car with good fuel efficiency and practicality. 1\n",
      "Citroen ZX : A practical and reliable mid-size family car with a spacious interior and good handling. 3\n",
      "Renault 21 : A comfortable and spacious mid-size sedan with a smooth ride and good fuel efficiency. 4\n",
      "Peugeot 605 : A luxurious and spacious executive sedan with advanced technology and safety features. 0\n",
      "Citroen Xsara : A practical and reliable mid-size family car with good handling and fuel efficiency. 4\n",
      "Renault Espace : A versatile and spacious MPV with advanced technology and comfort features. 2\n",
      "Peugeot 306 : A practical and reliable compact car with good fuel efficiency and handling. 1\n",
      "Citroen BX : A practical and reliable mid-size family car with good fuel efficiency and comfort. 2\n",
      "Renault 19 : A practical and reliable compact car with good fuel efficiency and handling. 2\n",
      "Peugeot 205 : A legendary and iconic small car with a sporty design and good handling. 2\n"
     ]
    }
   ],
   "source": [
    "list_items1={}\n",
    "list_items=[]\n",
    "voitures=pd.read_csv(\"../carsSMA.csv\")\n",
    "voitures['desc']=voitures['Car name']+\" : \"+voitures['Description']\n",
    "\n",
    "pvalues=[Value.VERY_BAD,Value.BAD,Value.AVERAGE,Value.GOOD,Value.VERY_GOOD]\n",
    "critere_dict={\"Cout_prod\":CriterionName.PRODUCTION_COST,\"Consumption\":CriterionName.CONSUMPTION,\"Durability\":CriterionName.DURABILITY,\"Noise\":CriterionName.NOISE,\"Environnement\":CriterionName.ENVIRONMENT_IMPACT}\n",
    "\n",
    "for index, row in voitures.iterrows():\n",
    "    item=Item(row[\"desc\"])\n",
    "    list_items.append(item)\n",
    "    dict_item={}\n",
    "    for x in critere_dict.keys():\n",
    "        dict_item[critere_dict[x]]=pvalues[row[x]]\n",
    "    list_items[item]=dict_item"
   ]
  }
 ],
 "metadata": {
  "kernelspec": {
   "display_name": "Python 3",
   "language": "python",
   "name": "python3"
  },
  "language_info": {
   "codemirror_mode": {
    "name": "ipython",
    "version": 3
   },
   "file_extension": ".py",
   "mimetype": "text/x-python",
   "name": "python",
   "nbconvert_exporter": "python",
   "pygments_lexer": "ipython3",
   "version": "3.10.6"
  },
  "orig_nbformat": 4
 },
 "nbformat": 4,
 "nbformat_minor": 2
}
